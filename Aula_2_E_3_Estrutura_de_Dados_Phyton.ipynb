{
  "nbformat": 4,
  "nbformat_minor": 0,
  "metadata": {
    "colab": {
      "provenance": [],
      "collapsed_sections": [],
      "include_colab_link": true
    },
    "kernelspec": {
      "name": "python3",
      "display_name": "Python 3"
    },
    "language_info": {
      "name": "python"
    }
  },
  "cells": [
    {
      "cell_type": "markdown",
      "metadata": {
        "id": "view-in-github",
        "colab_type": "text"
      },
      "source": [
        "<a href=\"https://colab.research.google.com/github/mari-lirio/Mariane/blob/main/Aula_2_E_3_Estrutura_de_Dados_Phyton.ipynb\" target=\"_parent\"><img src=\"https://colab.research.google.com/assets/colab-badge.svg\" alt=\"Open In Colab\"/></a>"
      ]
    },
    {
      "cell_type": "markdown",
      "source": [],
      "metadata": {
        "id": "iDoGtgyr5z8t"
      }
    },
    {
      "cell_type": "code",
      "source": [
        " a = 5\n",
        "\n",
        " for i in range(a):\n",
        "   print('Aula') #dentro do for \n",
        " print ('Python') #fora do for"
      ],
      "metadata": {
        "colab": {
          "base_uri": "https://localhost:8080/"
        },
        "id": "wIVZlRH58C92",
        "outputId": "e9d26fee-78ca-44c3-e75d-d1a311f011c2"
      },
      "execution_count": null,
      "outputs": [
        {
          "output_type": "stream",
          "name": "stdout",
          "text": [
            "Aula\n",
            "Aula\n",
            "Aula\n",
            "Aula\n",
            "Aula\n",
            "Python\n"
          ]
        }
      ]
    },
    {
      "cell_type": "code",
      "source": [
        " cont = 0\n",
        "\n",
        " while cont < 10:\n",
        "  cont +=1\n",
        "\n",
        "if cont == 5:\n",
        "    print('Aula') #está dentro do If\n",
        "print(cont) #está dentro do while "
      ],
      "metadata": {
        "colab": {
          "base_uri": "https://localhost:8080/"
        },
        "id": "YWpq1fjk9Ky0",
        "outputId": "a6537790-6eba-4051-aa70-3bbe1cf729d7"
      },
      "execution_count": null,
      "outputs": [
        {
          "output_type": "stream",
          "name": "stdout",
          "text": [
            "10\n"
          ]
        }
      ]
    },
    {
      "cell_type": "code",
      "source": [
        " cont = 0\n",
        "\n",
        " while cont < 10:\n",
        "  cont +=1\n",
        "  nome = input('Digite seu nome ou 9 para sair ')\n",
        "\n",
        "  if nome == '9':\n",
        "    break\n",
        "\n",
        "print('FIM DO PROGRAMA!')"
      ],
      "metadata": {
        "colab": {
          "base_uri": "https://localhost:8080/"
        },
        "id": "a26-2_glATUT",
        "outputId": "5b156612-c643-47a6-bbbf-8405970e42d2"
      },
      "execution_count": null,
      "outputs": [
        {
          "output_type": "stream",
          "name": "stdout",
          "text": [
            "Digite seu nome ou 9 para sair Renan \n",
            "Digite seu nome ou 9 para sair 9\n",
            "FIM DO PROGRAMA!\n"
          ]
        }
      ]
    },
    {
      "cell_type": "code",
      "execution_count": null,
      "metadata": {
        "id": "drxkllOE4Sv6"
      },
      "outputs": [],
      "source": [
        "Comando de Decisão - IF\n",
        "Estrutura do Comando IF\n",
        "\n",
        "* IF <condição>:\n",
        "executa de a condição for VERDADEIRA\n",
        "\n",
        "Else:\n",
        "executa se a condição for FALSA\n",
        "\n",
        "INDENTAÇÃO\n",
        "\n"
      ]
    },
    {
      "cell_type": "code",
      "source": [
        "a=10\n",
        "if a > 5:\n",
        "  print ('chocolate')\n",
        "else:\n",
        "  print ('Gelatina')"
      ],
      "metadata": {
        "colab": {
          "base_uri": "https://localhost:8080/"
        },
        "id": "Z9wne50g7a6A",
        "outputId": "43b5393f-b551-4cc9-a600-0d2e38d4e930"
      },
      "execution_count": null,
      "outputs": [
        {
          "output_type": "stream",
          "name": "stdout",
          "text": [
            "chocolate\n"
          ]
        }
      ]
    },
    {
      "cell_type": "markdown",
      "source": [
        "- SE A IDADE FOR MENOR OU IGUAL A 18 = ADOLESCENTE\n",
        "- SE A IDADE FOR MAIOR OU IGUAL A 65 = IDOSO\n",
        "- SE ESTIVER EM OUTRO INTERVALO = ADULTO\n"
      ],
      "metadata": {
        "id": "9iu54aIc-RCy"
      }
    },
    {
      "cell_type": "code",
      "source": [
        "idade =int (input('Digite sua idade: '))\n",
        "\n",
        "if idade <=18:\n",
        "  print('Adolescente')\n",
        "elif idade >=65:\n",
        "  print('Idoso')\n",
        "else:\n",
        "  print('Adulto')"
      ],
      "metadata": {
        "colab": {
          "base_uri": "https://localhost:8080/"
        },
        "id": "FM-YX5Nt-jFS",
        "outputId": "e4e6775c-d464-4f4d-802d-2ae60e2bcdf6"
      },
      "execution_count": null,
      "outputs": [
        {
          "output_type": "stream",
          "name": "stdout",
          "text": [
            "Digite sua idade: 25\n",
            "Adulto\n"
          ]
        }
      ]
    },
    {
      "cell_type": "markdown",
      "source": [],
      "metadata": {
        "id": "Mqd0nDYM-ORr"
      }
    },
    {
      "cell_type": "markdown",
      "source": [
        "Exercício 1) \n",
        "Leia 3 notas e calcule a Média\n",
        "- SE A MÉDIA FOR MAIOR OU IGUAL A 6 = APROVADO\n",
        "- SE A MÉDIA FOR MENOR OU IGUAL A 4 = REPROVADO\n",
        "- SE ESTIVER EM OUTRO INTERVALO = RECUPERAÇÃO"
      ],
      "metadata": {
        "id": "lPHmZ4ovBjyF"
      }
    },
    {
      "cell_type": "code",
      "source": [
        "\n",
        "nota1 =float (input('Digite suas nota 1: '))\n",
        "nota2 =float (input('Digite suas nota 2: '))\n",
        "nota3 =float (input('Digite suas nota 3: '))\n",
        "med = (nota1 + nota2 + nota3) /3\n",
        "print (f'Sua média foi: {med:.1f}')\n",
        "\n",
        "\n",
        "if med >=6:\n",
        "  print('Aprovado')\n",
        "elif med <=4:\n",
        "  print('Reprovado')\n",
        "else:\n",
        "  print ('Recuperação')\n"
      ],
      "metadata": {
        "colab": {
          "base_uri": "https://localhost:8080/"
        },
        "id": "vkq3hPxKB9b7",
        "outputId": "562651f2-0778-4cdc-918a-f0a2194898d3"
      },
      "execution_count": null,
      "outputs": [
        {
          "output_type": "stream",
          "name": "stdout",
          "text": [
            "Digite suas nota 1: 9\n",
            "Digite suas nota 2: 8\n",
            "Digite suas nota 3: 8\n",
            "Sua média foi: 8.3\n",
            "Aprovado\n"
          ]
        }
      ]
    },
    {
      "cell_type": "markdown",
      "source": [],
      "metadata": {
        "id": "0i0YLkhcL91P"
      }
    },
    {
      "cell_type": "markdown",
      "source": [
        "Exercício 2) Faça um programa que calcule o aumento de um salário. Ele deve solicitar o valor do salário e a porcentagem do aumento. Exiba o valor do aumento e do novo salário.\n",
        "\n",
        "Exercicío 3) Faça um programa que solicite o preço de uma mercadoria e o percentual de desconto. Exiba o valor do desconto e o preço a pagar."
      ],
      "metadata": {
        "id": "7bDowuwJMItv"
      }
    },
    {
      "cell_type": "code",
      "source": [
        "salario =float (input('Digite seu salário: '))\n",
        "aumento =float (input('Digite o aumento em porcentagem: '))\n",
        "novosalario = salario+salario*aumento/100\n",
        "print (f'Seu novo salario será: {novosalario:.1f}')\n"
      ],
      "metadata": {
        "colab": {
          "base_uri": "https://localhost:8080/"
        },
        "id": "0Fuq8OEkNFq1",
        "outputId": "dab67543-2334-44f9-9982-cdf97437e77e"
      },
      "execution_count": null,
      "outputs": [
        {
          "output_type": "stream",
          "name": "stdout",
          "text": [
            "Digite seu salário: 1800\n",
            "Digite o aumento em porcentagem: 10\n",
            "Seu novo salario será: 1980.0\n"
          ]
        }
      ]
    },
    {
      "cell_type": "code",
      "source": [
        "merc1 =float (input('Digite o preço da mercadoria: '))\n",
        "desc =float (input('Digite seu desconto: '))\n",
        "pagar = desc/100*merc1\n",
        "valor = merc1-pagar\n",
        "print (f'Seu valor com desconto é: {pagar:.2f}. Valor total com desconto será: {valor:.2f}')\n"
      ],
      "metadata": {
        "colab": {
          "base_uri": "https://localhost:8080/"
        },
        "id": "ihCcZFPpRHRt",
        "outputId": "2a46409d-7aa3-489a-8ea0-b487ee30f92b"
      },
      "execution_count": null,
      "outputs": [
        {
          "output_type": "stream",
          "name": "stdout",
          "text": [
            "Digite o preço da mercadoria: 700\n",
            "Digite seu desconto: 20\n",
            "Seu valor com desconto é: 140.00. Valor total com desconto será: 560.00\n"
          ]
        }
      ]
    },
    {
      "cell_type": "markdown",
      "source": [
        "BIBLIOTECAS\n",
        "\n",
        "É UM CONJUNTO DE FUNÇÕES E CÓDIGOS PRONTOS QUE FACILITAM O DESENVOLVIMENTO DE PROGRAMAS. PARA USÁ-LAS PRECISAMOS USAR O COMANDO IMPORT."
      ],
      "metadata": {
        "id": "-Lefg3KlDfUO"
      }
    },
    {
      "cell_type": "code",
      "source": [
        "A = 10\n",
        "type (a)"
      ],
      "metadata": {
        "colab": {
          "base_uri": "https://localhost:8080/"
        },
        "id": "gLaevBp0D0OP",
        "outputId": "af8d9c01-12f4-4d22-a63e-dc233c32b234"
      },
      "execution_count": null,
      "outputs": [
        {
          "output_type": "execute_result",
          "data": {
            "text/plain": [
              "int"
            ]
          },
          "metadata": {},
          "execution_count": 27
        }
      ]
    },
    {
      "cell_type": "code",
      "source": [
        "8*2"
      ],
      "metadata": {
        "colab": {
          "base_uri": "https://localhost:8080/"
        },
        "id": "es6AOV-dD_gd",
        "outputId": "54d10687-4b01-4c53-b3d4-c166a7f09938"
      },
      "execution_count": null,
      "outputs": [
        {
          "output_type": "execute_result",
          "data": {
            "text/plain": [
              "16"
            ]
          },
          "metadata": {},
          "execution_count": 28
        }
      ]
    },
    {
      "cell_type": "code",
      "source": [
        "import math"
      ],
      "metadata": {
        "id": "SwllnY_7EGB8"
      },
      "execution_count": null,
      "outputs": []
    },
    {
      "cell_type": "code",
      "source": [
        "math.sqrt (16) #calcula a raiz quadrada"
      ],
      "metadata": {
        "colab": {
          "base_uri": "https://localhost:8080/"
        },
        "id": "GTXFpFX4EOn0",
        "outputId": "73ce4c54-ac6d-4afd-a423-f186bda0a8f7"
      },
      "execution_count": null,
      "outputs": [
        {
          "output_type": "execute_result",
          "data": {
            "text/plain": [
              "4.0"
            ]
          },
          "metadata": {},
          "execution_count": 30
        }
      ]
    },
    {
      "cell_type": "code",
      "source": [
        "math.pow (5,2) #calcula a pôtencia"
      ],
      "metadata": {
        "colab": {
          "base_uri": "https://localhost:8080/"
        },
        "id": "karT1p9PEac0",
        "outputId": "5f5db89c-72f8-43c0-c457-a366690773ff"
      },
      "execution_count": null,
      "outputs": [
        {
          "output_type": "execute_result",
          "data": {
            "text/plain": [
              "25.0"
            ]
          },
          "metadata": {},
          "execution_count": 31
        }
      ]
    },
    {
      "cell_type": "code",
      "source": [
        "math.factorial (3)"
      ],
      "metadata": {
        "colab": {
          "base_uri": "https://localhost:8080/"
        },
        "id": "n1H9z_IPEk2h",
        "outputId": "170179ff-9bcd-4d2f-9109-1e3b1016c673"
      },
      "execution_count": null,
      "outputs": [
        {
          "output_type": "execute_result",
          "data": {
            "text/plain": [
              "6"
            ]
          },
          "metadata": {},
          "execution_count": 32
        }
      ]
    },
    {
      "cell_type": "code",
      "source": [
        "import random"
      ],
      "metadata": {
        "id": "BmRVvOHxExZb"
      },
      "execution_count": null,
      "outputs": []
    },
    {
      "cell_type": "code",
      "source": [
        "random.randint(1,100) #sorteia um número entre os números"
      ],
      "metadata": {
        "colab": {
          "base_uri": "https://localhost:8080/"
        },
        "id": "qz_dyMPKFG7j",
        "outputId": "5e5de7e5-a3b6-4103-c0ae-3d6e1f82ec79"
      },
      "execution_count": null,
      "outputs": [
        {
          "output_type": "execute_result",
          "data": {
            "text/plain": [
              "20"
            ]
          },
          "metadata": {},
          "execution_count": 39
        }
      ]
    },
    {
      "cell_type": "code",
      "source": [
        "random.choice([19,20,30,25,99]) #Escolhe um número desta lista inserida entre colchetes"
      ],
      "metadata": {
        "colab": {
          "base_uri": "https://localhost:8080/"
        },
        "id": "nEspHvE7F5Zh",
        "outputId": "796749d6-4c41-4671-c64e-c7fc4798bd83"
      },
      "execution_count": null,
      "outputs": [
        {
          "output_type": "execute_result",
          "data": {
            "text/plain": [
              "99"
            ]
          },
          "metadata": {},
          "execution_count": 40
        }
      ]
    },
    {
      "cell_type": "code",
      "source": [
        "import datetime"
      ],
      "metadata": {
        "id": "8dP2yR4PGNH4"
      },
      "execution_count": null,
      "outputs": []
    },
    {
      "cell_type": "code",
      "source": [
        "datetime.date.today()"
      ],
      "metadata": {
        "colab": {
          "base_uri": "https://localhost:8080/"
        },
        "id": "Jieg26AyGT3X",
        "outputId": "bc617b2b-46a5-499a-ed2f-6b742a6148d3"
      },
      "execution_count": null,
      "outputs": [
        {
          "output_type": "execute_result",
          "data": {
            "text/plain": [
              "datetime.date(2022, 9, 13)"
            ]
          },
          "metadata": {},
          "execution_count": 42
        }
      ]
    },
    {
      "cell_type": "code",
      "source": [
        "datetime.date.today().day"
      ],
      "metadata": {
        "colab": {
          "base_uri": "https://localhost:8080/"
        },
        "id": "2HRTdddsGbxn",
        "outputId": "f15113d2-8ae3-467f-cad3-e8af69250d8c"
      },
      "execution_count": null,
      "outputs": [
        {
          "output_type": "execute_result",
          "data": {
            "text/plain": [
              "13"
            ]
          },
          "metadata": {},
          "execution_count": 44
        }
      ]
    },
    {
      "cell_type": "code",
      "source": [
        "datetime.date.today().month"
      ],
      "metadata": {
        "colab": {
          "base_uri": "https://localhost:8080/"
        },
        "id": "h1kYF18uGroI",
        "outputId": "99cbc50f-bbb8-4c43-e89a-065d56f359f8"
      },
      "execution_count": null,
      "outputs": [
        {
          "output_type": "execute_result",
          "data": {
            "text/plain": [
              "9"
            ]
          },
          "metadata": {},
          "execution_count": 45
        }
      ]
    },
    {
      "cell_type": "code",
      "source": [
        "datetime.date.today().year"
      ],
      "metadata": {
        "colab": {
          "base_uri": "https://localhost:8080/"
        },
        "id": "c-iYiYMuG9IX",
        "outputId": "879c9b88-e7ad-4b13-f749-5d5acd444823"
      },
      "execution_count": null,
      "outputs": [
        {
          "output_type": "execute_result",
          "data": {
            "text/plain": [
              "2022"
            ]
          },
          "metadata": {},
          "execution_count": 46
        }
      ]
    },
    {
      "cell_type": "code",
      "source": [
        "import time"
      ],
      "metadata": {
        "id": "aXOicsK0HDjX"
      },
      "execution_count": null,
      "outputs": []
    },
    {
      "cell_type": "code",
      "source": [
        "for contador in range(5):\n",
        "    print('Conectando...')\n",
        "    time.sleep(1)"
      ],
      "metadata": {
        "colab": {
          "base_uri": "https://localhost:8080/"
        },
        "id": "EWi7kCUgHFzn",
        "outputId": "7b22b85c-41b8-4e18-b260-83ff686601d7"
      },
      "execution_count": null,
      "outputs": [
        {
          "output_type": "stream",
          "name": "stdout",
          "text": [
            "Conectando...\n",
            "Conectando...\n",
            "Conectando...\n",
            "Conectando...\n",
            "Conectando...\n"
          ]
        }
      ]
    },
    {
      "cell_type": "markdown",
      "source": [
        "LISTAS"
      ],
      "metadata": {
        "id": "or8G1wWSIR8d"
      }
    },
    {
      "cell_type": "code",
      "source": [
        "lista = [1,2,3,4,5] #CRIA UMA LISTA"
      ],
      "metadata": {
        "id": "nfg9A68kIU4V"
      },
      "execution_count": null,
      "outputs": []
    },
    {
      "cell_type": "code",
      "source": [
        "lista"
      ],
      "metadata": {
        "colab": {
          "base_uri": "https://localhost:8080/"
        },
        "id": "xblEH3eTIdxe",
        "outputId": "79221cfd-e8a5-4c5d-fdfa-d36fba6f474c"
      },
      "execution_count": null,
      "outputs": [
        {
          "output_type": "execute_result",
          "data": {
            "text/plain": [
              "[1, 2, 3, 4, 5]"
            ]
          },
          "metadata": {},
          "execution_count": 54
        }
      ]
    },
    {
      "cell_type": "code",
      "source": [
        "lista [0]"
      ],
      "metadata": {
        "colab": {
          "base_uri": "https://localhost:8080/"
        },
        "id": "GK47lCM6IuuU",
        "outputId": "012d78a7-1050-4001-8886-eaf03b4c3c8c"
      },
      "execution_count": null,
      "outputs": [
        {
          "output_type": "execute_result",
          "data": {
            "text/plain": [
              "1"
            ]
          },
          "metadata": {},
          "execution_count": 55
        }
      ]
    },
    {
      "cell_type": "markdown",
      "source": [
        "#INSERINDO ELEMENTOS NA LISTA"
      ],
      "metadata": {
        "id": "ltOxOtu3I--z"
      }
    },
    {
      "cell_type": "code",
      "source": [
        "lista.append(6) #adiciona elementos no final da lista"
      ],
      "metadata": {
        "id": "juLezfgZJIy6"
      },
      "execution_count": null,
      "outputs": []
    },
    {
      "cell_type": "code",
      "source": [
        "lista"
      ],
      "metadata": {
        "colab": {
          "base_uri": "https://localhost:8080/"
        },
        "id": "G_spfHwGJVcC",
        "outputId": "e962daf1-7c46-40f3-eb64-aa0a594c5b8c"
      },
      "execution_count": null,
      "outputs": [
        {
          "output_type": "execute_result",
          "data": {
            "text/plain": [
              "[1, 2, 3, 4, 5, 6]"
            ]
          },
          "metadata": {},
          "execution_count": 57
        }
      ]
    },
    {
      "cell_type": "code",
      "source": [
        "lista [0]=7 #sobrescreve o número na posição colocada em colchetes"
      ],
      "metadata": {
        "id": "7cHnJWgAJdFC"
      },
      "execution_count": null,
      "outputs": []
    },
    {
      "cell_type": "code",
      "source": [
        "lista"
      ],
      "metadata": {
        "colab": {
          "base_uri": "https://localhost:8080/"
        },
        "id": "Z5NH6M1RJoQJ",
        "outputId": "cdff6e58-0ccb-4497-cd3c-f76f3c179c02"
      },
      "execution_count": null,
      "outputs": [
        {
          "output_type": "execute_result",
          "data": {
            "text/plain": [
              "[7, 2, 3, 4, 5, 6]"
            ]
          },
          "metadata": {},
          "execution_count": 59
        }
      ]
    },
    {
      "cell_type": "code",
      "source": [
        "lista.insert(0,10) #insere antes da posição"
      ],
      "metadata": {
        "id": "IpFSEi05JqgB"
      },
      "execution_count": null,
      "outputs": []
    },
    {
      "cell_type": "code",
      "source": [
        "lista"
      ],
      "metadata": {
        "colab": {
          "base_uri": "https://localhost:8080/"
        },
        "id": "ziO8rbBrJ3sx",
        "outputId": "9e8deb03-3f29-4729-9c28-f7c3db680c5e"
      },
      "execution_count": null,
      "outputs": [
        {
          "output_type": "execute_result",
          "data": {
            "text/plain": [
              "[10, 7, 2, 3, 4, 5, 6]"
            ]
          },
          "metadata": {},
          "execution_count": 61
        }
      ]
    },
    {
      "cell_type": "code",
      "source": [
        "#APAGANDO ELEMENTOS DA LISTA\n",
        "del lista [0]"
      ],
      "metadata": {
        "id": "CwfyAwrQKJW5"
      },
      "execution_count": null,
      "outputs": []
    },
    {
      "cell_type": "code",
      "source": [
        "lista"
      ],
      "metadata": {
        "colab": {
          "base_uri": "https://localhost:8080/"
        },
        "id": "CTEZylMMKWBJ",
        "outputId": "ca93c793-ef83-4908-b60a-8438a89effa0"
      },
      "execution_count": null,
      "outputs": [
        {
          "output_type": "execute_result",
          "data": {
            "text/plain": [
              "[7, 2, 3, 4, 5, 6]"
            ]
          },
          "metadata": {},
          "execution_count": 63
        }
      ]
    },
    {
      "cell_type": "code",
      "source": [
        "lista.pop() #sem parametros, elimina o último elemento da lista"
      ],
      "metadata": {
        "colab": {
          "base_uri": "https://localhost:8080/"
        },
        "id": "_pZmrkIqKavR",
        "outputId": "eb327f2a-5b35-4893-bd65-6e9f565646ba"
      },
      "execution_count": null,
      "outputs": [
        {
          "output_type": "execute_result",
          "data": {
            "text/plain": [
              "6"
            ]
          },
          "metadata": {},
          "execution_count": 64
        }
      ]
    },
    {
      "cell_type": "code",
      "source": [
        "lista"
      ],
      "metadata": {
        "colab": {
          "base_uri": "https://localhost:8080/"
        },
        "id": "YHaA96EuKj4w",
        "outputId": "84ff4359-da63-4cb8-f30e-e268e240cd77"
      },
      "execution_count": null,
      "outputs": [
        {
          "output_type": "execute_result",
          "data": {
            "text/plain": [
              "[7, 2, 3, 4, 5]"
            ]
          },
          "metadata": {},
          "execution_count": 65
        }
      ]
    },
    {
      "cell_type": "markdown",
      "source": [],
      "metadata": {
        "id": "FxR4ItinHmOe"
      }
    },
    {
      "cell_type": "code",
      "source": [
        "lista.pop(4) #elimina o elemento entre parenteses"
      ],
      "metadata": {
        "colab": {
          "base_uri": "https://localhost:8080/",
          "height": 165
        },
        "id": "NZ1eltZBK1Vv",
        "outputId": "4a246b6e-8cb0-4fab-cb44-3130fe48c320"
      },
      "execution_count": null,
      "outputs": [
        {
          "output_type": "error",
          "ename": "IndexError",
          "evalue": "ignored",
          "traceback": [
            "\u001b[0;31m---------------------------------------------------------------------------\u001b[0m",
            "\u001b[0;31mIndexError\u001b[0m                                Traceback (most recent call last)",
            "\u001b[0;32m<ipython-input-73-f23a4cceb3e2>\u001b[0m in \u001b[0;36m<module>\u001b[0;34m\u001b[0m\n\u001b[0;32m----> 1\u001b[0;31m \u001b[0mlista\u001b[0m\u001b[0;34m.\u001b[0m\u001b[0mpop\u001b[0m\u001b[0;34m(\u001b[0m\u001b[0;36m4\u001b[0m\u001b[0;34m)\u001b[0m \u001b[0;31m#elimina o elemento entre parenteses\u001b[0m\u001b[0;34m\u001b[0m\u001b[0;34m\u001b[0m\u001b[0m\n\u001b[0m",
            "\u001b[0;31mIndexError\u001b[0m: pop index out of range"
          ]
        }
      ]
    },
    {
      "cell_type": "code",
      "source": [
        "lista"
      ],
      "metadata": {
        "colab": {
          "base_uri": "https://localhost:8080/"
        },
        "id": "63xWcxAJK5Vw",
        "outputId": "c9fb6750-bbc8-42a9-d368-0105a9822e19"
      },
      "execution_count": null,
      "outputs": [
        {
          "output_type": "execute_result",
          "data": {
            "text/plain": [
              "[7, 2, 3, 4]"
            ]
          },
          "metadata": {},
          "execution_count": 67
        }
      ]
    },
    {
      "cell_type": "code",
      "source": [
        "lista.remove(3) #elimina o elemento passado "
      ],
      "metadata": {
        "id": "6KOaeIecLB9n"
      },
      "execution_count": null,
      "outputs": []
    },
    {
      "cell_type": "code",
      "source": [
        "lista"
      ],
      "metadata": {
        "colab": {
          "base_uri": "https://localhost:8080/"
        },
        "id": "OaZVmhCrLYou",
        "outputId": "99464028-431b-4569-f10a-6a198e6b7a6e"
      },
      "execution_count": null,
      "outputs": [
        {
          "output_type": "execute_result",
          "data": {
            "text/plain": [
              "[7, 2, 4]"
            ]
          },
          "metadata": {},
          "execution_count": 69
        }
      ]
    },
    {
      "cell_type": "markdown",
      "source": [
        "PODEMOS AINDA CRIAR UMA LISTA USANDO O MÉTODO LIST()"
      ],
      "metadata": {
        "id": "n3NUeTkgLvD-"
      }
    },
    {
      "cell_type": "code",
      "source": [
        "numeros = list()"
      ],
      "metadata": {
        "id": "bDpUDbjHL0QV"
      },
      "execution_count": null,
      "outputs": []
    },
    {
      "cell_type": "code",
      "source": [
        "numeros"
      ],
      "metadata": {
        "colab": {
          "base_uri": "https://localhost:8080/"
        },
        "id": "zIaHM0yYL-u8",
        "outputId": "eb70cd08-a271-49a9-d48f-c35987d31a15"
      },
      "execution_count": null,
      "outputs": [
        {
          "output_type": "execute_result",
          "data": {
            "text/plain": [
              "[]"
            ]
          },
          "metadata": {},
          "execution_count": 76
        }
      ]
    },
    {
      "cell_type": "code",
      "source": [
        "type (numeros)"
      ],
      "metadata": {
        "colab": {
          "base_uri": "https://localhost:8080/"
        },
        "id": "eJSbCNH9MA6M",
        "outputId": "f511031a-c323-4636-9b81-7723e1cf4d1d"
      },
      "execution_count": null,
      "outputs": [
        {
          "output_type": "execute_result",
          "data": {
            "text/plain": [
              "list"
            ]
          },
          "metadata": {},
          "execution_count": 77
        }
      ]
    },
    {
      "cell_type": "code",
      "source": [
        "numeros = [1,2,3]"
      ],
      "metadata": {
        "id": "Qygbo6OqMDfF"
      },
      "execution_count": null,
      "outputs": []
    },
    {
      "cell_type": "code",
      "source": [
        "numeros"
      ],
      "metadata": {
        "colab": {
          "base_uri": "https://localhost:8080/"
        },
        "id": "jgNJlG-tMVsd",
        "outputId": "4860659f-1159-47d0-d6ea-4ba6e9a870ea"
      },
      "execution_count": null,
      "outputs": [
        {
          "output_type": "execute_result",
          "data": {
            "text/plain": [
              "[1, 2, 3]"
            ]
          },
          "metadata": {},
          "execution_count": 80
        }
      ]
    },
    {
      "cell_type": "code",
      "source": [
        "numeros.append(4)"
      ],
      "metadata": {
        "id": "tSHwvYeFMXNs"
      },
      "execution_count": null,
      "outputs": []
    },
    {
      "cell_type": "code",
      "source": [
        "numeros"
      ],
      "metadata": {
        "colab": {
          "base_uri": "https://localhost:8080/"
        },
        "id": "7nl8TdAWMb8E",
        "outputId": "88edfb92-042b-418b-d2be-2a5d15db61fb"
      },
      "execution_count": null,
      "outputs": [
        {
          "output_type": "execute_result",
          "data": {
            "text/plain": [
              "[1, 2, 3, 4]"
            ]
          },
          "metadata": {},
          "execution_count": 82
        }
      ]
    },
    {
      "cell_type": "code",
      "source": [
        "#Criando uma lista com Range\n",
        "valores = list(range(1,11))"
      ],
      "metadata": {
        "id": "RcoN_cjOMd5E"
      },
      "execution_count": null,
      "outputs": []
    },
    {
      "cell_type": "code",
      "source": [
        "valores"
      ],
      "metadata": {
        "colab": {
          "base_uri": "https://localhost:8080/"
        },
        "id": "o_pcL9YwMnws",
        "outputId": "4af2759a-d61e-4152-8df0-2b241536b610"
      },
      "execution_count": null,
      "outputs": [
        {
          "output_type": "execute_result",
          "data": {
            "text/plain": [
              "[1, 2, 3, 4, 5, 6, 7, 8, 9, 10]"
            ]
          },
          "metadata": {},
          "execution_count": 84
        }
      ]
    },
    {
      "cell_type": "code",
      "source": [
        "valores = [3,12,54,10,2,7,20]"
      ],
      "metadata": {
        "id": "UfNJWX5vMsoc"
      },
      "execution_count": null,
      "outputs": []
    },
    {
      "cell_type": "code",
      "source": [
        "valores.sort() #coloca a lista em ordem crescente"
      ],
      "metadata": {
        "id": "4Gd4Q5BHM4d8"
      },
      "execution_count": null,
      "outputs": []
    },
    {
      "cell_type": "code",
      "source": [
        "valores"
      ],
      "metadata": {
        "colab": {
          "base_uri": "https://localhost:8080/"
        },
        "id": "7DRPHnX7M_Rj",
        "outputId": "a955f5a7-cda1-49cc-8f14-67486a4d93bb"
      },
      "execution_count": null,
      "outputs": [
        {
          "output_type": "execute_result",
          "data": {
            "text/plain": [
              "[2, 3, 7, 10, 12, 20, 54]"
            ]
          },
          "metadata": {},
          "execution_count": 87
        }
      ]
    },
    {
      "cell_type": "code",
      "source": [
        "valores.sort(reverse=True) #Ele inverte os valores"
      ],
      "metadata": {
        "id": "kPxNElVSNP3i"
      },
      "execution_count": null,
      "outputs": []
    },
    {
      "cell_type": "code",
      "source": [
        "valores"
      ],
      "metadata": {
        "colab": {
          "base_uri": "https://localhost:8080/"
        },
        "id": "h9uIkTG5NWpa",
        "outputId": "4afa2973-fa1f-4f10-9ceb-35ffd609b773"
      },
      "execution_count": null,
      "outputs": [
        {
          "output_type": "execute_result",
          "data": {
            "text/plain": [
              "[54, 20, 12, 10, 7, 3, 2]"
            ]
          },
          "metadata": {},
          "execution_count": 90
        }
      ]
    },
    {
      "cell_type": "code",
      "source": [
        "len(valores)"
      ],
      "metadata": {
        "colab": {
          "base_uri": "https://localhost:8080/"
        },
        "id": "c6WSYO_QNgs6",
        "outputId": "418981af-a121-4e27-a742-2cfa83dcbe7a"
      },
      "execution_count": null,
      "outputs": [
        {
          "output_type": "execute_result",
          "data": {
            "text/plain": [
              "7"
            ]
          },
          "metadata": {},
          "execution_count": 91
        }
      ]
    },
    {
      "cell_type": "code",
      "source": [
        "print(f'Esta lista tem {len(valores)} elementos.')"
      ],
      "metadata": {
        "colab": {
          "base_uri": "https://localhost:8080/"
        },
        "id": "4mZ6L3XANkBa",
        "outputId": "b330b4a1-b540-427d-f11b-6f67c41e507c"
      },
      "execution_count": null,
      "outputs": [
        {
          "output_type": "stream",
          "name": "stdout",
          "text": [
            "Esta lista tem 7 elementos.\n"
          ]
        }
      ]
    },
    {
      "cell_type": "code",
      "source": [
        "valores"
      ],
      "metadata": {
        "colab": {
          "base_uri": "https://localhost:8080/"
        },
        "id": "c_c1R4PxOK-x",
        "outputId": "458524d3-d231-4df9-9c1f-329b9d501347"
      },
      "execution_count": null,
      "outputs": [
        {
          "output_type": "execute_result",
          "data": {
            "text/plain": [
              "[54, 20, 12, 10, 7, 3, 2]"
            ]
          },
          "metadata": {},
          "execution_count": 93
        }
      ]
    },
    {
      "cell_type": "code",
      "source": [
        "if 12 in valores:\n",
        "    valores.remove(12)\n",
        "else:\n",
        "    print('não encontrei o valor na lista')\n",
        "print(valores)"
      ],
      "metadata": {
        "colab": {
          "base_uri": "https://localhost:8080/"
        },
        "id": "RIwo_qmlOM-J",
        "outputId": "6927fad6-8dd3-44e8-9575-080e240dacfd"
      },
      "execution_count": null,
      "outputs": [
        {
          "output_type": "stream",
          "name": "stdout",
          "text": [
            "[54, 20, 10, 7, 3, 2]\n"
          ]
        }
      ]
    },
    {
      "cell_type": "code",
      "source": [
        "#CRIADO LISTAS DE STRING\n",
        "\n",
        "estados = ['São Paulo', 'Rio de Janeiro', 'Bahia', 'Minas Gerais','Piaui']\n",
        "print(estados)\n",
        "\n",
        "print('O estado foi', random.choice(estados))"
      ],
      "metadata": {
        "colab": {
          "base_uri": "https://localhost:8080/"
        },
        "id": "0eNd0zKUPw4e",
        "outputId": "418ae984-9d7e-443b-b094-5c06d2a45dc1"
      },
      "execution_count": null,
      "outputs": [
        {
          "output_type": "stream",
          "name": "stdout",
          "text": [
            "['São Paulo', 'Rio de Janeiro', 'Bahia', 'Minas Gerais', 'Piaui']\n",
            "O estado foi Rio de Janeiro\n"
          ]
        }
      ]
    },
    {
      "cell_type": "code",
      "source": [
        "estados"
      ],
      "metadata": {
        "colab": {
          "base_uri": "https://localhost:8080/"
        },
        "id": "O0qkOzy-QXgU",
        "outputId": "c035e912-d99a-4fff-b7e6-bf0b8634ce68"
      },
      "execution_count": null,
      "outputs": [
        {
          "output_type": "execute_result",
          "data": {
            "text/plain": [
              "['São Paulo', 'Rio de Janeiro', 'Bahia', 'Minas Gerais', 'Piaui']"
            ]
          },
          "metadata": {},
          "execution_count": 97
        }
      ]
    },
    {
      "cell_type": "code",
      "source": [
        "# Crie uma Lista com 5 números aleatorios e no final imprima a lista!"
      ],
      "metadata": {
        "id": "Y6e5puGHQmuF"
      },
      "execution_count": null,
      "outputs": []
    },
    {
      "cell_type": "code",
      "source": [
        "lista = [24,11,54,78,43]"
      ],
      "metadata": {
        "id": "g1ezrv9iQ4l0"
      },
      "execution_count": null,
      "outputs": []
    },
    {
      "cell_type": "code",
      "source": [
        "lista"
      ],
      "metadata": {
        "colab": {
          "base_uri": "https://localhost:8080/"
        },
        "id": "PTHmwiM_RjC6",
        "outputId": "ae290a61-e7f4-4ea3-ebd6-e4667122bd92"
      },
      "execution_count": null,
      "outputs": [
        {
          "output_type": "execute_result",
          "data": {
            "text/plain": [
              "[24, 11, 54, 78, 43]"
            ]
          },
          "metadata": {},
          "execution_count": 103
        }
      ]
    },
    {
      "cell_type": "code",
      "source": [
        "random.randint(11,78)"
      ],
      "metadata": {
        "colab": {
          "base_uri": "https://localhost:8080/"
        },
        "id": "D3Y2zWswSX-Z",
        "outputId": "6507ab00-89c5-4036-c2be-9052f7715e86"
      },
      "execution_count": null,
      "outputs": [
        {
          "output_type": "execute_result",
          "data": {
            "text/plain": [
              "29"
            ]
          },
          "metadata": {},
          "execution_count": 109
        }
      ]
    },
    {
      "cell_type": "code",
      "source": [
        "random.choice([24,11,54,78,43])"
      ],
      "metadata": {
        "colab": {
          "base_uri": "https://localhost:8080/"
        },
        "id": "Y6zZQ-qnUPY1",
        "outputId": "d27b2519-8820-426a-eead-413522c83c20"
      },
      "execution_count": null,
      "outputs": [
        {
          "output_type": "execute_result",
          "data": {
            "text/plain": [
              "54"
            ]
          },
          "metadata": {},
          "execution_count": 117
        }
      ]
    },
    {
      "cell_type": "code",
      "source": [
        "numeros = list()\n",
        "\n",
        "\n",
        "for c in range (5):\n",
        "    num = int(input('Digite um número '))\n",
        "    numeros.append(num)\n",
        "print(numeros)"
      ],
      "metadata": {
        "colab": {
          "base_uri": "https://localhost:8080/"
        },
        "id": "g0VF-09nV8ty",
        "outputId": "78312322-9025-499c-c69c-f210c095b319"
      },
      "execution_count": null,
      "outputs": [
        {
          "output_type": "stream",
          "name": "stdout",
          "text": [
            "Digite um número 20\n",
            "Digite um número 15\n",
            "Digite um número 30\n",
            "Digite um número 450\n",
            "Digite um número 400\n",
            "[20, 15, 30, 450, 400]\n"
          ]
        }
      ]
    },
    {
      "cell_type": "code",
      "source": [
        "numero = list()\n",
        "\n",
        "for c in range (5):\n",
        "  numero.append(random.randint(0,100))\n",
        "print(numero)"
      ],
      "metadata": {
        "colab": {
          "base_uri": "https://localhost:8080/"
        },
        "id": "F79XJN5gYwb_",
        "outputId": "7eea59e6-ba69-4d70-b621-1c6d2685d37a"
      },
      "execution_count": null,
      "outputs": [
        {
          "output_type": "stream",
          "name": "stdout",
          "text": [
            "[74, 98, 17, 64, 27]\n"
          ]
        }
      ]
    },
    {
      "cell_type": "code",
      "source": [
        "result = numero [0] + numero[3]\n",
        "\n",
        "print(result)"
      ],
      "metadata": {
        "colab": {
          "base_uri": "https://localhost:8080/"
        },
        "id": "w03ihbQlZRvU",
        "outputId": "c82af303-b9d4-4193-eedc-685f99a4f3e2"
      },
      "execution_count": null,
      "outputs": [
        {
          "output_type": "stream",
          "name": "stdout",
          "text": [
            "138\n"
          ]
        }
      ]
    }
  ]
}