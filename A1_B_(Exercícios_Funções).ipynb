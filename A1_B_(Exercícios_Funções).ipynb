{
  "nbformat": 4,
  "nbformat_minor": 0,
  "metadata": {
    "colab": {
      "provenance": [],
      "include_colab_link": true
    },
    "kernelspec": {
      "name": "python3",
      "display_name": "Python 3"
    },
    "language_info": {
      "name": "python"
    }
  },
  "cells": [
    {
      "cell_type": "markdown",
      "metadata": {
        "id": "view-in-github",
        "colab_type": "text"
      },
      "source": [
        "<a href=\"https://colab.research.google.com/github/mari-lirio/Mariane/blob/main/A1_B_(Exerc%C3%ADcios_Fun%C3%A7%C3%B5es).ipynb\" target=\"_parent\"><img src=\"https://colab.research.google.com/assets/colab-badge.svg\" alt=\"Open In Colab\"/></a>"
      ]
    },
    {
      "cell_type": "markdown",
      "source": [
        "1. Elabore um programa que leia dois números e imprima o\n",
        "maior. Use funções."
      ],
      "metadata": {
        "id": "DhOgblrwRZaK"
      }
    },
    {
      "cell_type": "code",
      "source": [
        "def números(num1, num2):\n",
        "  \n",
        "  return\n",
        "\n",
        "num1 = int(input('Digite o primeiro número: '))\n",
        "num2 = int(input('Digite o segundo número: '))\n",
        "\n",
        "if num1>num2:\n",
        "    print(f'O maior é o {num1}')\n",
        "else:\n",
        "    print(f'O maior valor é o {num2}')"
      ],
      "metadata": {
        "colab": {
          "base_uri": "https://localhost:8080/"
        },
        "id": "U4bWrTN_Rphv",
        "outputId": "e5a62ed6-2882-4af5-da90-f86010d1d812"
      },
      "execution_count": 1,
      "outputs": [
        {
          "output_type": "stream",
          "name": "stdout",
          "text": [
            "Digite o primeiro número: 24\n",
            "Digite o segundo número: 50\n",
            "O maior valor é o 50\n"
          ]
        }
      ]
    },
    {
      "cell_type": "markdown",
      "source": [
        "2. Faça um programa que leia 3 notas de um aluno e calcule\n",
        "sua média. Se a média for maior ou igual a 6, mostre a\n",
        "mensagem APROVADO, senão, mostre REPROVADO. Use\n",
        "funções."
      ],
      "metadata": {
        "id": "Pif70uLoRz_-"
      }
    },
    {
      "cell_type": "code",
      "source": [
        "def media(nota1, nota2, nota3):\n",
        "\n",
        "  return\n",
        "\n",
        "nota1 = float(input('Digite a primeira nota: '))\n",
        "nota2 = float(input('Digite a segunda nota: '))\n",
        "nota3 = float(input('Digite a terceira nota: '))\n",
        "\n",
        "mediafinal = (nota1 + nota2 + nota3)/3\n",
        "\n",
        "print('Média final: ', mediafinal)\n",
        "\n",
        "if mediafinal >= 6.0:\n",
        "    print('Aprovado')\n",
        "else:\n",
        "    print('Reprovado')"
      ],
      "metadata": {
        "colab": {
          "base_uri": "https://localhost:8080/"
        },
        "id": "pGt00BPQR_Dd",
        "outputId": "5cf07330-021c-4b4e-e88c-c510424b57e9"
      },
      "execution_count": 4,
      "outputs": [
        {
          "output_type": "stream",
          "name": "stdout",
          "text": [
            "Digite a primeira nota: 10\n",
            "Digite a segunda nota: 7\n",
            "Digite a terceira nota: 6\n",
            "Média final:  7.666666666666667\n",
            "Aprovado\n"
          ]
        }
      ]
    },
    {
      "cell_type": "markdown",
      "source": [
        "3. Ler uma temperatura em graus celsius e apresentá-la\n",
        "convertida em Graus fahrenheit. A fórmula de conversão é:\n",
        "f = (9*c+160)/5, na qual F é a temperatura em fahrenheit e\n",
        "c é a temperatura em celsius. Elabore:\n",
        "a. uma função para ler e retornar o valor da\n",
        "temperatura(não recebe parâmetro)\n",
        "b. uma função para fazer o cálculo (recebe como\n",
        "parâmetro a temperatura em graus celsius)\n",
        "c. uma função para mostrar o resultado, recebendo\n",
        "como parâmetro o valor e fazendo a impressão."
      ],
      "metadata": {
        "id": "vNWJcCQ_SIe2"
      }
    },
    {
      "cell_type": "code",
      "source": [
        "def lerTemp():\n",
        "  tempC = float(input('Digite uma temperatura em Celsius: '))\n",
        "  return tempC\n",
        "\n",
        "def converter(temperaturaCelsius):\n",
        "  temperaturaF = (9 * temperaturaCelsius + 160)/5\n",
        "  return temperaturaF\n",
        "\n",
        "def mostrar(temperaturaF):\n",
        "  print(f'Á temperatura em Fahrenheit é {temperaturaF}')\n",
        "\n",
        "temperaC = lerTemp()\n",
        "tempF = converter(temperaC)\n",
        "mostrar(tempF)\n",
        "\n"
      ],
      "metadata": {
        "colab": {
          "base_uri": "https://localhost:8080/"
        },
        "id": "p3YlTFCsSO1m",
        "outputId": "50681ee0-7d4b-48b2-c1e6-84631fcd372f"
      },
      "execution_count": 5,
      "outputs": [
        {
          "output_type": "stream",
          "name": "stdout",
          "text": [
            "Digite uma temperatura em Celsius: 37\n",
            "Á temperatura em Fahrenheit é 98.6\n"
          ]
        }
      ]
    },
    {
      "cell_type": "markdown",
      "source": [
        "4. Faça um programa que tenha uma lista chamada números e\n",
        "duas funções chamadas sorteia() e somaPar(). A primeira\n",
        "função vai sortear 5 números e colocá-los em uma lista. A\n",
        "segunda função vai somar e mostrar a soma de todos os\n",
        "valores pares da primeira lista."
      ],
      "metadata": {
        "id": "anfoHJO2SUnd"
      }
    },
    {
      "cell_type": "code",
      "source": [
        "from random import randint\n",
        "numeros = [] \n",
        "\n",
        "def sorteia(): \n",
        "    print('Números sorteados: ', end='') \n",
        "    for cont in range(5): \n",
        "        valorSorteado = randint(1, 10) \n",
        "        numeros.append(valorSorteado) \n",
        "        print(f'{valorSorteado}', end=' ') \n",
        "\n",
        "\n",
        "\n",
        "def soma_par(lista_valores): \n",
        "    par = 0 \n",
        "    for valor in lista_valores: \n",
        "        if valor % 2 == 0: \n",
        "            par += valor \n",
        "\n",
        "    print()\n",
        "    print(f'A soma de todos valores pares de: {lista_valores}, é igual a ----> {par}') \n",
        "\n",
        "sorteia()\n",
        "soma_par(numeros)"
      ],
      "metadata": {
        "colab": {
          "base_uri": "https://localhost:8080/"
        },
        "id": "R0vVYLaBSeo2",
        "outputId": "b5ef0266-0b2e-43aa-c2f7-e333ef32ef6c"
      },
      "execution_count": 16,
      "outputs": [
        {
          "output_type": "stream",
          "name": "stdout",
          "text": [
            "Números sorteados: 3 4 1 5 3 \n",
            "A soma de todos valores pares de: [3, 4, 1, 5, 3], é igual a ----> 4\n"
          ]
        }
      ]
    }
  ]
}